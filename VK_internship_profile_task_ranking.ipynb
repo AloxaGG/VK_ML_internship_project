{
  "nbformat": 4,
  "nbformat_minor": 0,
  "metadata": {
    "colab": {
      "private_outputs": true,
      "provenance": []
    },
    "kernelspec": {
      "name": "python3",
      "display_name": "Python 3"
    },
    "language_info": {
      "name": "python"
    }
  },
  "cells": [
    {
      "cell_type": "code",
      "source": [
        "!pip install catboost"
      ],
      "metadata": {
        "id": "9xDJPOpjLVnD"
      },
      "execution_count": null,
      "outputs": []
    },
    {
      "cell_type": "code",
      "execution_count": null,
      "metadata": {
        "id": "HJimBhikNflg"
      },
      "outputs": [],
      "source": [
        "from sklearn.model_selection import train_test_split\n",
        "from sklearn.preprocessing import LabelEncoder\n",
        "import pandas as pd\n",
        "import matplotlib.pyplot as plt\n",
        "import numpy as np\n",
        "from catboost import CatBoostRanker, Pool\n",
        "from sklearn.metrics import ndcg_score"
      ]
    },
    {
      "cell_type": "code",
      "source": [
        "train_df = pd.read_csv('train_df.csv')"
      ],
      "metadata": {
        "id": "LVzSxa2lNlH8"
      },
      "execution_count": null,
      "outputs": []
    },
    {
      "cell_type": "code",
      "source": [
        "train_df"
      ],
      "metadata": {
        "id": "oI1J2pDvNwII"
      },
      "execution_count": null,
      "outputs": []
    },
    {
      "cell_type": "code",
      "source": [
        "test_df = pd.read_csv('test_df.csv')"
      ],
      "metadata": {
        "id": "ovymDmF3PfL4"
      },
      "execution_count": null,
      "outputs": []
    },
    {
      "cell_type": "code",
      "source": [
        "test_df"
      ],
      "metadata": {
        "id": "S5L3o1buPxz6"
      },
      "execution_count": null,
      "outputs": []
    },
    {
      "cell_type": "markdown",
      "source": [
        "# Обучение без обработки данных"
      ],
      "metadata": {
        "id": "f_IR_x_UMnfZ"
      }
    },
    {
      "cell_type": "markdown",
      "source": [
        "**Используем catboost**"
      ],
      "metadata": {
        "id": "QEi1hRL2M3Qb"
      }
    },
    {
      "cell_type": "code",
      "source": [
        "groups = train_df['search_id'].unique(); len(groups)"
      ],
      "metadata": {
        "id": "ZuIU4-3yLy70"
      },
      "execution_count": null,
      "outputs": []
    },
    {
      "cell_type": "code",
      "source": [
        "X_train = train_df.drop(columns=['search_id', 'target']).values\n",
        "y_train = train_df['target'].values\n",
        "groups_train = train_df['search_id'].values\n",
        "\n",
        "X_test = test_df.drop(columns=['search_id', 'target']).values\n",
        "y_test = test_df['target'].values\n",
        "groups_test = test_df['search_id'].values"
      ],
      "metadata": {
        "id": "lCbuVI7OL8jV"
      },
      "execution_count": null,
      "outputs": []
    },
    {
      "cell_type": "code",
      "source": [
        "parameters = {\n",
        "    'iterations': 120,\n",
        "    'custom_metric': ['NDCG', 'PFound', 'AverageGain:top=5'],\n",
        "    'verbose': False,\n",
        "    'random_seed': 0,\n",
        "    'early_stopping_rounds' : 100,\n",
        "    'loss_function': 'YetiRankPairwise',\n",
        "    'depth': 3,\n",
        "    'learning_rate': 0.1\n",
        "}"
      ],
      "metadata": {
        "id": "RDLC4qUzMFWw"
      },
      "execution_count": null,
      "outputs": []
    },
    {
      "cell_type": "code",
      "source": [
        "model = CatBoostRanker(**parameters)\n",
        "model = model.fit(X_train, y_train, group_id=groups_train)"
      ],
      "metadata": {
        "id": "0_YAFstnMJhd"
      },
      "execution_count": null,
      "outputs": []
    },
    {
      "cell_type": "code",
      "source": [
        "ndcg_train = model.score(X_train, y_train, group_id=groups_train)\n",
        "print(f\"Train NDCG: {ndcg_train}\")\n",
        "\n",
        "ndcg_test = model.score(X_test, y_test, group_id=groups_test)\n",
        "print(f\"Test NDCG: {ndcg_test}\")"
      ],
      "metadata": {
        "id": "lZ0Xq9KJML3C"
      },
      "execution_count": null,
      "outputs": []
    },
    {
      "cell_type": "markdown",
      "source": [
        "# Обучение с обработкой данных"
      ],
      "metadata": {
        "id": "SwHDuT6iDoCJ"
      }
    },
    {
      "cell_type": "code",
      "source": [
        "to_drop = train_df.nunique().index[train_df.nunique() == 1]\n",
        "train_df = train_df.drop(columns = to_drop, axis =1)\n",
        "test_df = test_df.drop(columns = to_drop, axis =1)"
      ],
      "metadata": {
        "id": "h3lYDGBOCP2L"
      },
      "execution_count": null,
      "outputs": []
    },
    {
      "cell_type": "code",
      "source": [
        "to_drop"
      ],
      "metadata": {
        "id": "WHRNc5dTEWbT"
      },
      "execution_count": null,
      "outputs": []
    },
    {
      "cell_type": "code",
      "source": [
        "def remove_highly_correlated_features(df, df_test, threshold):\n",
        "    corr_matrix = df.corr().abs()\n",
        "    upper_tri = corr_matrix.where(np.triu(np.ones(corr_matrix.shape), k=1).astype(bool))\n",
        "    to_drop = [column for column in upper_tri.columns if any(upper_tri[column] > threshold)]\n",
        "    df_filtered = df.drop(to_drop, axis=1)\n",
        "    df_filtered_test = df_test.drop(to_drop, axis=1)\n",
        "    print(to_drop)\n",
        "    return df_filtered, df_filtered_test\n",
        "\n",
        "threshold = 0.9\n",
        "\n",
        "train_df, test_df = remove_highly_correlated_features(train_df, test_df, threshold)\n",
        "\n",
        "print(\"Количество признаков после удаления коррелирующих:\", test_df.shape[1])"
      ],
      "metadata": {
        "id": "nGB4qYOjG-cD"
      },
      "execution_count": null,
      "outputs": []
    },
    {
      "cell_type": "code",
      "source": [
        "X_train = train_df.drop(columns=['search_id', 'target']).values\n",
        "y_train = train_df['target'].values\n",
        "groups_train = train_df['search_id'].values\n",
        "\n",
        "X_test = test_df.drop(columns=['search_id', 'target']).values\n",
        "y_test = test_df['target'].values\n",
        "groups_test = test_df['search_id'].values"
      ],
      "metadata": {
        "id": "oTifd9g_FC_F"
      },
      "execution_count": null,
      "outputs": []
    },
    {
      "cell_type": "code",
      "source": [
        "model = CatBoostRanker(**parameters)\n",
        "model = model.fit(X_train, y_train, group_id=groups_train)"
      ],
      "metadata": {
        "id": "wmPuYnLrD-9q"
      },
      "execution_count": null,
      "outputs": []
    },
    {
      "cell_type": "code",
      "source": [
        "ndcg_train = model.score(X_train, y_train, group_id=groups_train)\n",
        "print(f\"Train NDCG: {ndcg_train}\")\n",
        "\n",
        "ndcg_test = model.score(X_test, y_test, group_id=groups_test)\n",
        "print(f\"Test NDCG: {ndcg_test}\")"
      ],
      "metadata": {
        "id": "sw5UR-PQFI1u"
      },
      "execution_count": null,
      "outputs": []
    },
    {
      "cell_type": "markdown",
      "source": [
        "**Скор ухудшился на тех же параметрах**"
      ],
      "metadata": {
        "id": "d3r2LVyNL0jD"
      }
    }
  ]
}